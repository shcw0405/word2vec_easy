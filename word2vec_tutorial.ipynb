{
 "cells": [
  {
   "cell_type": "code",
   "execution_count": 1,
   "id": "9daf8ff6",
   "metadata": {},
   "outputs": [
    {
     "data": {
      "text/plain": [
       "'\\nWord2Vec 教学教程\\n本教程将带你了解Word2Vec的基本原理和实现。\\n我们将使用PyTorch实现一个简单的Word2Vec模型，\\n并通过可视化来理解词向量的含义。\\n'"
      ]
     },
     "execution_count": 1,
     "metadata": {},
     "output_type": "execute_result"
    }
   ],
   "source": [
    "\"\"\"\n",
    "Word2Vec 教学教程\n",
    "本教程将带你了解Word2Vec的基本原理和实现。\n",
    "我们将使用PyTorch实现一个简单的Word2Vec模型，\n",
    "并通过可视化来理解词向量的含义。\n",
    "\"\"\""
   ]
  },
  {
   "cell_type": "code",
   "execution_count": 2,
   "id": "1216f7ba",
   "metadata": {},
   "outputs": [],
   "source": [
    "# 1. 导入必要的库\n",
    "import numpy as np\n",
    "import torch\n",
    "import torch.nn as nn\n",
    "import torch.optim as optim\n",
    "from collections import Counter\n",
    "import time\n",
    "import jieba # 中文分词库\n",
    "import matplotlib.pyplot as plt\n",
    "from sklearn.manifold import TSNE\n",
    "import random"
   ]
  },
  {
   "cell_type": "code",
   "execution_count": 3,
   "id": "06da2de3",
   "metadata": {},
   "outputs": [
    {
     "data": {
      "text/plain": [
       "<torch._C.Generator at 0x2c34c53c790>"
      ]
     },
     "execution_count": 3,
     "metadata": {},
     "output_type": "execute_result"
    }
   ],
   "source": [
    "# 设置随机种子，确保结果可复现\n",
    "random.seed(42)\n",
    "np.random.seed(42)\n",
    "torch.manual_seed(42)"
   ]
  },
  {
   "cell_type": "code",
   "execution_count": 4,
   "id": "36b9babd",
   "metadata": {},
   "outputs": [],
   "source": [
    "# 2. 准备示例数据\n",
    "sentences = [\n",
    "    \"自然语言处理是人工智能的一个重要分支\",\n",
    "    \"词嵌入是自然语言处理中的基础技术\",\n",
    "    \"word2vec是一种常用的词嵌入模型\",\n",
    "    \"词嵌入可以捕捉词语之间的语义关系\",\n",
    "    \"中国是一个有着悠久历史的国家\",\n",
    "    \"北京是中国的首都\",\n",
    "    \"上海是中国的经济中心\",\n",
    "    \"人工智能技术在各个领域得到了广泛应用\",\n",
    "    \"深度学习是机器学习的一个重要分支\",\n",
    "    \"自然语言处理技术可以帮助计算机理解人类语言\"\n",
    "] * 5  # 重复多次以增加样本量"
   ]
  },
  {
   "cell_type": "code",
   "execution_count": 6,
   "id": "6f8c6f17",
   "metadata": {
    "lines_to_next_cell": 1
   },
   "outputs": [
    {
     "name": "stdout",
     "output_type": "stream",
     "text": [
      "分词示例：\n",
      "原句：自然语言处理是人工智能的一个重要分支\n",
      "分词：自然语言 处理 是 人工智能 的 一个 重要 分支\n",
      "\n",
      "原句：词嵌入是自然语言处理中的基础技术\n",
      "分词：词 嵌入 是 自然语言 处理 中 的 基础 技术\n",
      "\n"
     ]
    }
   ],
   "source": [
    "# 展示分词效果\n",
    "print(\"分词示例：\")\n",
    "for sentence in sentences[:2]:\n",
    "    words = list(jieba.cut(sentence))\n",
    "    print(f\"原句：{sentence}\")\n",
    "    print(f\"分词：{' '.join(words)}\")\n",
    "    print()"
   ]
  },
  {
   "cell_type": "code",
   "execution_count": 7,
   "id": "e115e1ab",
   "metadata": {
    "lines_to_next_cell": 1
   },
   "outputs": [],
   "source": [
    "# 3. 构建词汇表\n",
    "def build_vocab(sentences):\n",
    "    \"\"\"构建词汇表\"\"\"\n",
    "    word_counts = Counter()\n",
    "    for sentence in sentences:\n",
    "        # 使用jieba进行中文分词\n",
    "        words = list(jieba.cut(sentence))\n",
    "        word_counts.update(words)\n",
    "    \n",
    "    # 创建词到索引的映射\n",
    "    word_to_idx = {word: i for i, word in enumerate(word_counts.keys())}\n",
    "    idx_to_word = {i: word for word, i in word_to_idx.items()}\n",
    "    \n",
    "    return word_to_idx, idx_to_word, len(word_counts)"
   ]
  },
  {
   "cell_type": "code",
   "execution_count": 8,
   "id": "d0abb712",
   "metadata": {},
   "outputs": [],
   "source": [
    "# 构建词汇表\n",
    "word_to_idx, idx_to_word, vocab_size = build_vocab(sentences)"
   ]
  },
  {
   "cell_type": "code",
   "execution_count": 9,
   "id": "57c125f4",
   "metadata": {
    "lines_to_next_cell": 1
   },
   "outputs": [
    {
     "name": "stdout",
     "output_type": "stream",
     "text": [
      "词汇表大小: 46\n",
      "\n",
      "部分词汇示例：\n",
      "自然语言: 0\n",
      "处理: 1\n",
      "是: 2\n",
      "人工智能: 3\n",
      "的: 4\n",
      "一个: 5\n",
      "重要: 6\n",
      "分支: 7\n",
      "词: 8\n",
      "嵌入: 9\n"
     ]
    }
   ],
   "source": [
    "print(f\"词汇表大小: {vocab_size}\")\n",
    "print(\"\\n部分词汇示例：\")\n",
    "for word, idx in list(word_to_idx.items())[:10]:\n",
    "    print(f\"{word}: {idx}\")"
   ]
  },
  {
   "cell_type": "code",
   "execution_count": 10,
   "id": "c80475d0",
   "metadata": {
    "lines_to_next_cell": 1
   },
   "outputs": [],
   "source": [
    "# 4. 准备训练数据\n",
    "def prepare_data(sentences, word_to_idx, window_size=2):\n",
    "    \"\"\"准备训练数据\"\"\"\n",
    "    data = []\n",
    "    for sentence in sentences:\n",
    "        # 使用jieba进行中文分词\n",
    "        words = list(jieba.cut(sentence))\n",
    "        for i, word in enumerate(words):\n",
    "            if word not in word_to_idx:\n",
    "                continue\n",
    "            # 获取上下文词\n",
    "            for j in range(max(0, i-window_size), min(len(words), i+window_size+1)):\n",
    "                if i != j and words[j] in word_to_idx:\n",
    "                    data.append((word_to_idx[word], word_to_idx[words[j]]))\n",
    "    return data"
   ]
  },
  {
   "cell_type": "code",
   "execution_count": 11,
   "id": "713a7e14",
   "metadata": {},
   "outputs": [],
   "source": [
    "data = prepare_data(sentences, word_to_idx)"
   ]
  },
  {
   "cell_type": "code",
   "execution_count": 12,
   "id": "f13b4964",
   "metadata": {
    "lines_to_next_cell": 1
   },
   "outputs": [
    {
     "name": "stdout",
     "output_type": "stream",
     "text": [
      "训练样本数: 1260\n",
      "\n",
      "部分训练样本示例：\n",
      "中心词: 自然语言, 上下文词: 处理\n",
      "中心词: 自然语言, 上下文词: 是\n",
      "中心词: 处理, 上下文词: 自然语言\n",
      "中心词: 处理, 上下文词: 是\n",
      "中心词: 处理, 上下文词: 人工智能\n"
     ]
    }
   ],
   "source": [
    "print(f\"训练样本数: {len(data)}\")\n",
    "print(\"\\n部分训练样本示例：\")\n",
    "for center_idx, context_idx in data[:5]:\n",
    "    print(f\"中心词: {idx_to_word[center_idx]}, 上下文词: {idx_to_word[context_idx]}\")"
   ]
  },
  {
   "cell_type": "code",
   "execution_count": 13,
   "id": "d8e28929",
   "metadata": {
    "lines_to_next_cell": 1
   },
   "outputs": [],
   "source": [
    "# 5. 定义Word2Vec模型\n",
    "class SimpleWord2Vec(nn.Module):\n",
    "    def __init__(self, vocab_size, embedding_dim):\n",
    "        super(SimpleWord2Vec, self).__init__()\n",
    "        self.embeddings = nn.Embedding(vocab_size, embedding_dim)\n",
    "        self.linear = nn.Linear(embedding_dim, vocab_size)\n",
    "        \n",
    "    def forward(self, x):\n",
    "        embeds = self.embeddings(x)\n",
    "        out = self.linear(embeds)\n",
    "        return out"
   ]
  },
  {
   "cell_type": "code",
   "execution_count": 14,
   "id": "f4a87980",
   "metadata": {},
   "outputs": [],
   "source": [
    "embedding_dim = 50\n",
    "model = SimpleWord2Vec(vocab_size, embedding_dim)"
   ]
  },
  {
   "cell_type": "code",
   "execution_count": 15,
   "id": "3b05bbf6",
   "metadata": {
    "lines_to_next_cell": 1
   },
   "outputs": [
    {
     "name": "stdout",
     "output_type": "stream",
     "text": [
      "SimpleWord2Vec(\n",
      "  (embeddings): Embedding(46, 50)\n",
      "  (linear): Linear(in_features=50, out_features=46, bias=True)\n",
      ")\n"
     ]
    }
   ],
   "source": [
    "print(model)"
   ]
  },
  {
   "cell_type": "code",
   "execution_count": 16,
   "id": "bf9f5b09",
   "metadata": {
    "lines_to_next_cell": 1
   },
   "outputs": [],
   "source": [
    "# 6. 训练模型\n",
    "def train_word2vec(sentences, embedding_dim=50, window_size=2, epochs=10, learning_rate=0.01):\n",
    "    \"\"\"训练Word2Vec模型\"\"\"\n",
    "    start_time = time.time()\n",
    "    \n",
    "    # 构建词汇表\n",
    "    word_to_idx, idx_to_word, vocab_size = build_vocab(sentences)\n",
    "    print(f\"词汇表大小: {vocab_size}\")\n",
    "    \n",
    "    # 准备数据\n",
    "    data = prepare_data(sentences, word_to_idx, window_size)\n",
    "    print(f\"训练样本数: {len(data)}\")\n",
    "    \n",
    "    # 创建模型\n",
    "    model = SimpleWord2Vec(vocab_size, embedding_dim)\n",
    "    criterion = nn.CrossEntropyLoss()#交叉熵损失 数据分布和one hot做交叉熵\n",
    "    optimizer = optim.SGD(model.parameters(), lr=learning_rate)\n",
    "    \n",
    "    # 训练\n",
    "    print(\"开始训练...\")\n",
    "    losses = []\n",
    "    for epoch in range(epochs):\n",
    "        total_loss = 0\n",
    "        for center, context in data:\n",
    "            # 准备输入和目标\n",
    "            center_tensor = torch.LongTensor([center])\n",
    "            context_tensor = torch.LongTensor([context])\n",
    "            \n",
    "            # 前向传播\n",
    "            output = model(center_tensor)\n",
    "            loss = criterion(output, context_tensor)\n",
    "            \n",
    "            # 反向传播\n",
    "            optimizer.zero_grad()\n",
    "            loss.backward()\n",
    "            optimizer.step()\n",
    "            \n",
    "            total_loss += loss.item()\n",
    "        \n",
    "        avg_loss = total_loss/len(data)\n",
    "        losses.append(avg_loss)\n",
    "        print(f\"Epoch {epoch+1}/{epochs}, Loss: {avg_loss:.4f}\")\n",
    "    \n",
    "    end_time = time.time()\n",
    "    print(f\"训练完成，耗时: {end_time - start_time:.2f}秒\")\n",
    "    \n",
    "    return model, word_to_idx, idx_to_word, losses"
   ]
  },
  {
   "cell_type": "code",
   "execution_count": 17,
   "id": "dba79a18",
   "metadata": {},
   "outputs": [
    {
     "name": "stdout",
     "output_type": "stream",
     "text": [
      "词汇表大小: 46\n",
      "训练样本数: 1260\n",
      "开始训练...\n",
      "Epoch 1/10, Loss: 3.2613\n",
      "Epoch 2/10, Loss: 2.5350\n",
      "Epoch 3/10, Loss: 2.3137\n",
      "Epoch 4/10, Loss: 2.2126\n",
      "Epoch 5/10, Loss: 2.1584\n",
      "Epoch 6/10, Loss: 2.1264\n",
      "Epoch 7/10, Loss: 2.1060\n",
      "Epoch 8/10, Loss: 2.0920\n",
      "Epoch 9/10, Loss: 2.0819\n",
      "Epoch 10/10, Loss: 2.0743\n",
      "训练完成，耗时: 5.48秒\n"
     ]
    }
   ],
   "source": [
    "# 训练模型\n",
    "model, word_to_idx, idx_to_word, losses = train_word2vec(\n",
    "    sentences,\n",
    "    embedding_dim=50,\n",
    "    window_size=2,\n",
    "    epochs=10,\n",
    "    learning_rate=0.01\n",
    ")"
   ]
  },
  {
   "cell_type": "code",
   "execution_count": 18,
   "id": "03c75b12",
   "metadata": {
    "lines_to_next_cell": 1
   },
   "outputs": [
    {
     "data": {
      "image/png": "[encoded data removed]",
      "text/plain": [
       "<Figure size 1000x500 with 1 Axes>"
      ]
     },
     "metadata": {},
     "output_type": "display_data"
    }
   ],
   "source": [
    "# 绘制损失曲线\n",
    "plt.figure(figsize=(10, 5))\n",
    "plt.plot(losses)\n",
    "plt.title('Training Loss')\n",
    "plt.xlabel('Epoch')\n",
    "plt.ylabel('Loss')\n",
    "plt.show()"
   ]
  },
  {
   "cell_type": "code",
   "execution_count": 19,
   "id": "b5fce93a",
   "metadata": {
    "lines_to_next_cell": 1
   },
   "outputs": [],
   "source": [
    "# 7. 词向量可视化\n",
    "def visualize_word_vectors(model, word_to_idx, words_to_visualize=None):\n",
    "    \"\"\"可视化词向量\"\"\"\n",
    "    if words_to_visualize is None:\n",
    "        words_to_visualize = list(word_to_idx.keys())[:50]  # 默认可视化前50个词\n",
    "    \n",
    "    # 获取词向量\n",
    "    vectors = []\n",
    "    words = []\n",
    "    for word in words_to_visualize:\n",
    "        if word in word_to_idx:\n",
    "            with torch.no_grad():\n",
    "                vector = model.embeddings(torch.LongTensor([word_to_idx[word]])).numpy()[0]\n",
    "            vectors.append(vector)\n",
    "            words.append(word)\n",
    "    \n",
    "    vectors = np.array(vectors)\n",
    "\n",
    "\n",
    "    # 使用t-SNE降维\n",
    "    tsne = TSNE(n_components=2, random_state=42, perplexity=min(30, len(vectors)-1))\n",
    "    vectors_2d = tsne.fit_transform(vectors)\n",
    "    # 配置matplotlib支持中文显示 - 跨平台解决方案\n",
    "    plt.rcParams['font.sans-serif'] = ['Arial Unicode MS', 'SimHei', 'DejaVu Sans', 'Bitstream Vera Sans', 'sans-serif']\n",
    "    plt.rcParams['axes.unicode_minus'] = False\n",
    "    # 绘制散点图\n",
    "    plt.figure(figsize=(15, 15))\n",
    "    plt.scatter(vectors_2d[:, 0], vectors_2d[:, 1])\n",
    "    \n",
    "    # 添加词标签，使用中文字体\n",
    "    for i, word in enumerate(words):\n",
    "        plt.annotate(word, (vectors_2d[i, 0], vectors_2d[i, 1]), fontsize=9)\n",
    "\n",
    "    \n",
    "    plt.title('词向量可视化')\n",
    "    plt.grid(True)\n",
    "    plt.show()"
   ]
  },
  {
   "cell_type": "code",
   "execution_count": 23,
   "id": "21ed481c",
   "metadata": {},
   "outputs": [],
   "source": [
    "# 选择一些有代表性的词进行可视化\n",
    "words_to_visualize = [\n",
    "    \"中国\", \"北京\", \"上海\",\n",
    "    \"自然语言\", \"人工智能\", \"深度学习\",\n",
    "    \"词嵌入\", \"模型\", \"技术\"\n",
    "]"
   ]
  },
  {
   "cell_type": "code",
   "execution_count": 24,
   "id": "dcc7bc03",
   "metadata": {
    "lines_to_next_cell": 1
   },
   "outputs": [
    {
     "data": {
      "image/png": "[encoded data removed]",
      "text/plain": [
       "<Figure size 1500x1500 with 1 Axes>"
      ]
     },
     "metadata": {},
     "output_type": "display_data"
    }
   ],
   "source": [
    "visualize_word_vectors(model, word_to_idx, words_to_visualize)"
   ]
  },
  {
   "cell_type": "code",
   "execution_count": 25,
   "id": "5c5079d0",
   "metadata": {
    "lines_to_next_cell": 1
   },
   "outputs": [],
   "source": [
    "# 8. 词向量应用\n",
    "def get_word_vector(model, word_to_idx, word):\n",
    "    \"\"\"获取词的向量表示\"\"\"\n",
    "    if word not in word_to_idx:\n",
    "        return None\n",
    "    with torch.no_grad():\n",
    "        word_idx = torch.LongTensor([word_to_idx[word]])\n",
    "        return model.embeddings(word_idx).numpy()[0]"
   ]
  },
  {
   "cell_type": "code",
   "execution_count": 31,
   "id": "9a84f825",
   "metadata": {
    "lines_to_next_cell": 1
   },
   "outputs": [],
   "source": [
    "def find_similar_words(model, word_to_idx, idx_to_word, word, topn=5):\n",
    "    \"\"\"查找相似词\"\"\"\n",
    "    if word not in word_to_idx:\n",
    "        return []\n",
    "    \n",
    "    # 获取目标词的向量\n",
    "    target_vector = get_word_vector(model, word_to_idx, word)\n",
    "    if target_vector is None:\n",
    "        return []\n",
    "    \n",
    "    # 计算与其他词的余弦相似度\n",
    "    similarities = []\n",
    "    for other_word, idx in word_to_idx.items():\n",
    "        if other_word == word:\n",
    "            continue\n",
    "        other_vector = get_word_vector(model, word_to_idx, other_word)\n",
    "        similarity = np.dot(target_vector, other_vector) / (\n",
    "            np.linalg.norm(target_vector) * np.linalg.norm(other_vector))\n",
    "        similarities.append((other_word, similarity))\n",
    "    \n",
    "    # 返回最相似的词\n",
    "    return sorted(similarities, key=lambda x: x[1], reverse=True)[:topn]"
   ]
  },
  {
   "cell_type": "code",
   "execution_count": 32,
   "id": "a838740b",
   "metadata": {},
   "outputs": [
    {
     "name": "stdout",
     "output_type": "stream",
     "text": [
      "\n",
      "'中国' 的相似词:\n",
      "历史: 0.3283\n",
      "人工智能: 0.3138\n",
      "分支: 0.2871\n",
      "广泛应用: 0.2665\n",
      "一种: 0.2375\n",
      "\n",
      "'北京' 的相似词:\n",
      "嵌入: 0.2682\n",
      "语义: 0.2385\n",
      "可以: 0.2157\n",
      "的: 0.1821\n",
      "理解: 0.1687\n",
      "\n",
      "'人工智能' 的相似词:\n",
      "中国: 0.3138\n",
      "有着: 0.2972\n",
      "深度: 0.2872\n",
      "首都: 0.2574\n",
      "广泛应用: 0.2212\n"
     ]
    }
   ],
   "source": [
    "# 测试词语相似度\n",
    "test_words = [\"中国\", \"北京\", \"人工智能\"]\n",
    "for word in test_words:\n",
    "    print(f\"\\n'{word}' 的相似词:\")\n",
    "    similar_words = find_similar_words(model, word_to_idx, idx_to_word, word)\n",
    "    for similar_word, similarity in similar_words:\n",
    "        print(f\"{similar_word}: {similarity:.4f}\")"
   ]
  }
 ],
 "metadata": {
  "jupytext": {
   "cell_metadata_filter": "-all",
   "encoding": "# -*- coding: utf-8 -*-",
   "executable": "/usr/bin/env python",
   "main_language": "python",
   "notebook_metadata_filter": "-all"
  },
  "kernelspec": {
   "display_name": "w2v",
   "language": "python",
   "name": "python3"
  },
  "language_info": {
   "codemirror_mode": {
    "name": "ipython",
    "version": 3
   },
   "file_extension": ".py",
   "mimetype": "text/x-python",
   "name": "python",
   "nbconvert_exporter": "python",
   "pygments_lexer": "ipython3",
   "version": "3.13.2"
  }
 },
 "nbformat": 4,
 "nbformat_minor": 5
}
